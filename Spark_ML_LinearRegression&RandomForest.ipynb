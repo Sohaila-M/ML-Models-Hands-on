{
  "cells": [
    {
      "cell_type": "code",
      "execution_count": null,
      "metadata": {
        "id": "rdjrvduN5a8q"
      },
      "outputs": [],
      "source": [
        "#!pip install findspark\n"
      ]
    },
    {
      "cell_type": "code",
      "execution_count": null,
      "metadata": {
        "id": "oWFKrKaR5a8r"
      },
      "outputs": [],
      "source": [
        "import findspark\n",
        "findspark.init(\"/home/bigdata/spark\")"
      ]
    },
    {
      "cell_type": "code",
      "execution_count": null,
      "metadata": {
        "id": "4kVQIig35a8s"
      },
      "outputs": [],
      "source": [
        "from pyspark.sql import SparkSession\n",
        "spark=SparkSession.builder.appName('Housing').getOrCreate()"
      ]
    },
    {
      "cell_type": "code",
      "execution_count": null,
      "metadata": {
        "id": "wOOqKk725a8t"
      },
      "outputs": [],
      "source": [
        "df = spark.read.csv(\"/home/bigdata/Desktop/BostonHousing.csv\", header=True, inferSchema=True)\n",
        "# header=True means first row is header\n"
      ]
    },
    {
      "cell_type": "code",
      "execution_count": null,
      "metadata": {
        "id": "qFIeGXUA5a8u"
      },
      "outputs": [],
      "source": [
        "from pyspark.ml.feature import StringIndexer, VectorAssembler\n",
        "features = df.columns[:-1]  # Exclude the label column\n",
        "assembler = VectorAssembler(inputCols=features, outputCol=\"features\")\n",
        "df = assembler.transform(df)\n"
      ]
    },
    {
      "cell_type": "code",
      "execution_count": null,
      "metadata": {
        "id": "NUpULL-x5a8u"
      },
      "outputs": [],
      "source": [
        "train_data, test_data = df.randomSplit([.8,.2],seed=42)\n"
      ]
    },
    {
      "cell_type": "code",
      "execution_count": null,
      "metadata": {
        "id": "-fqMR-V45a8v",
        "outputId": "dd576e9f-15f8-4d32-e3ec-2891680e3e26"
      },
      "outputs": [
        {
          "data": {
            "text/plain": [
              "['crim',\n",
              " 'zn',\n",
              " 'indus',\n",
              " 'chas',\n",
              " 'nox',\n",
              " 'rm',\n",
              " 'age',\n",
              " 'dis',\n",
              " 'rad',\n",
              " 'tax',\n",
              " 'ptratio',\n",
              " 'b',\n",
              " 'lstat',\n",
              " 'medv',\n",
              " 'features']"
            ]
          },
          "execution_count": 9,
          "metadata": {},
          "output_type": "execute_result"
        }
      ],
      "source": [
        "train_data.columns\n"
      ]
    },
    {
      "cell_type": "code",
      "execution_count": null,
      "metadata": {
        "id": "_owLy_6o5a8w"
      },
      "outputs": [],
      "source": [
        "from pyspark.ml.regression import LinearRegression\n",
        "lr = LinearRegression(featuresCol='features', labelCol=\"medv\")"
      ]
    },
    {
      "cell_type": "code",
      "execution_count": null,
      "metadata": {
        "id": "fSJRbB4o5a8x"
      },
      "outputs": [],
      "source": [
        "model=lr.fit(train_data)"
      ]
    },
    {
      "cell_type": "code",
      "execution_count": null,
      "metadata": {
        "id": "TARA-iqg5a8x"
      },
      "outputs": [],
      "source": [
        "predictions = model.transform(test_data)"
      ]
    },
    {
      "cell_type": "code",
      "execution_count": null,
      "metadata": {
        "id": "mm-hz7gj5a8y"
      },
      "outputs": [],
      "source": [
        "evaluation = model.evaluate(test_data)"
      ]
    },
    {
      "cell_type": "code",
      "execution_count": null,
      "metadata": {
        "id": "97LoayGD5a8y",
        "outputId": "2046956c-a434-44d1-8a5c-ed422287a6b2"
      },
      "outputs": [
        {
          "data": {
            "text/plain": [
              "3.5080612468325625"
            ]
          },
          "execution_count": 14,
          "metadata": {},
          "output_type": "execute_result"
        }
      ],
      "source": [
        "evaluation.meanAbsoluteError"
      ]
    },
    {
      "cell_type": "code",
      "execution_count": null,
      "metadata": {
        "id": "7ZUZAdwO5a8y",
        "outputId": "0680f007-ed74-4b16-b02b-d47bee75cef5"
      },
      "outputs": [
        {
          "data": {
            "text/plain": [
              "4.671806485171292"
            ]
          },
          "execution_count": 15,
          "metadata": {},
          "output_type": "execute_result"
        }
      ],
      "source": [
        "evaluation.rootMeanSquaredError"
      ]
    },
    {
      "cell_type": "code",
      "execution_count": null,
      "metadata": {
        "id": "M94rx9kV5a8z",
        "outputId": "0ffb3454-ebb3-471a-d9ff-bd3dff2cfb5c"
      },
      "outputs": [
        {
          "name": "stdout",
          "output_type": "stream",
          "text": [
            "R² Score: 0.7931522547835961\n"
          ]
        }
      ],
      "source": [
        "from pyspark.ml.evaluation import RegressionEvaluator\n",
        "evaluator = RegressionEvaluator(labelCol=\"medv\", predictionCol=\"prediction\", metricName=\"r2\")\n",
        "r2 = evaluator.evaluate(predictions)\n",
        "print(\"R² Score:\", r2)"
      ]
    },
    {
      "cell_type": "code",
      "execution_count": null,
      "metadata": {
        "id": "HpaqNL155a8z"
      },
      "outputs": [],
      "source": [
        "from pyspark.ml.regression import RandomForestRegressor\n",
        "rf = RandomForestRegressor(labelCol=\"medv\", featuresCol=\"features\")"
      ]
    },
    {
      "cell_type": "code",
      "execution_count": null,
      "metadata": {
        "id": "Hqg34LGf5a80"
      },
      "outputs": [],
      "source": [
        "model2 = rf.fit(train_data)"
      ]
    },
    {
      "cell_type": "code",
      "execution_count": null,
      "metadata": {
        "id": "SG9UT0h85a80"
      },
      "outputs": [],
      "source": [
        "predictions2 = model2.transform(test_data)"
      ]
    },
    {
      "cell_type": "code",
      "execution_count": null,
      "metadata": {
        "id": "XEZ1yu9Y5a80",
        "outputId": "10552ef4-c93d-4261-cbec-6e5f32fe9d1f"
      },
      "outputs": [
        {
          "name": "stdout",
          "output_type": "stream",
          "text": [
            "+-------+----+-----+----+-----+-----+----+------+---+---+-------+------+-----+----+--------------------+------------------+\n",
            "|   crim|  zn|indus|chas|  nox|   rm| age|   dis|rad|tax|ptratio|     b|lstat|medv|            features|        prediction|\n",
            "+-------+----+-----+----+-----+-----+----+------+---+---+-------+------+-----+----+--------------------+------------------+\n",
            "|0.01096|55.0| 2.25|   0|0.389|6.453|31.9|7.3073|  1|300|   15.3|394.72| 8.23|22.0|[0.01096,55.0,2.2...| 23.23856706604841|\n",
            "|0.01381|80.0| 0.46|   0|0.422|7.875|32.0|5.6484|  4|255|   14.4|394.23| 2.97|50.0|[0.01381,80.0,0.4...| 45.22708600759144|\n",
            "|0.01439|60.0| 2.93|   0|0.401|6.604|18.8|6.2196|  1|265|   15.6| 376.7| 4.38|29.1|[0.01439,60.0,2.9...|25.966020309941864|\n",
            "|0.01778|95.0| 1.47|   0|0.403|7.135|13.9|7.6534|  3|402|   17.0| 384.3| 4.45|32.9|[0.01778,95.0,1.4...| 33.63096109110492|\n",
            "|0.02177|82.5| 2.03|   0|0.415| 7.61|15.7|  6.27|  2|348|   14.7|395.38| 3.11|42.3|[0.02177,82.5,2.0...| 45.25420108695651|\n",
            "|0.02729| 0.0| 7.07|   0|0.469|7.185|61.1|4.9671|  2|242|   17.8|392.83| 4.03|34.7|[0.02729,0.0,7.07...|31.795448986629843|\n",
            "|0.03041| 0.0| 5.19|   0|0.515|5.895|59.6| 5.615|  5|224|   20.2|394.81|10.56|18.5|[0.03041,0.0,5.19...| 20.49697416370077|\n",
            "|0.03359|75.0| 2.95|   0|0.428|7.024|15.8|5.4011|  3|252|   18.3|395.62| 1.98|34.9|[0.03359,75.0,2.9...| 34.68777477131839|\n",
            "|0.03584|80.0| 3.37|   0|0.398| 6.29|17.8|6.6115|  4|337|   16.1| 396.9| 4.67|23.5|[0.03584,80.0,3.3...|25.714577793017305|\n",
            "|0.03615|80.0| 4.95|   0|0.411| 6.63|23.4|5.1167|  4|245|   19.2| 396.9|  4.7|27.9|[0.03615,80.0,4.9...|25.420258425092428|\n",
            "|0.03659|25.0| 4.86|   0|0.426|6.302|32.2|5.4007|  4|281|   19.0| 396.9| 6.72|24.8|[0.03659,25.0,4.8...|23.655948880025967|\n",
            "|0.03738| 0.0| 5.19|   0|0.515| 6.31|38.5|6.4584|  5|224|   20.2| 389.4| 6.75|20.7|[0.03738,0.0,5.19...|23.634248679466506|\n",
            "|0.03871|52.5| 5.32|   0|0.405|6.209|31.3|7.3172|  6|293|   16.6| 396.9| 7.14|23.2|[0.03871,52.5,5.3...|23.442838401419603|\n",
            "|0.04113|25.0| 4.86|   0|0.426|6.727|33.5|5.4007|  4|281|   19.0| 396.9| 5.29|28.0|[0.04113,25.0,4.8...|25.745907793075208|\n",
            "|0.04417|70.0| 2.24|   0|  0.4|6.871|47.4|7.8278|  5|358|   14.8|390.86| 6.07|24.8|[0.04417,70.0,2.2...|31.410274353089136|\n",
            "|0.04684| 0.0| 3.41|   0|0.489|6.417|66.1|3.0923|  2|270|   17.8|392.18| 8.81|22.6|[0.04684,0.0,3.41...|22.930871437535945|\n",
            "|0.05188| 0.0| 4.49|   0|0.449|6.015|45.1|4.4272|  3|247|   18.5|395.99|12.86|22.5|[0.05188,0.0,4.49...|20.898577661904145|\n",
            "|0.06263| 0.0|11.93|   0|0.573|6.593|69.1|2.4786|  1|273|   21.0|391.99| 9.67|22.4|[0.06263,0.0,11.9...| 21.31092482398333|\n",
            "|0.06911|45.0| 3.44|   0|0.437|6.739|30.8|6.4798|  5|398|   15.2|389.71| 4.69|30.5|[0.06911,45.0,3.4...|27.951293804511682|\n",
            "|0.07165| 0.0|25.65|   0|0.581|6.004|84.1|2.1974|  2|188|   19.1|377.67|14.27|20.3|[0.07165,0.0,25.6...| 20.18854189745208|\n",
            "+-------+----+-----+----+-----+-----+----+------+---+---+-------+------+-----+----+--------------------+------------------+\n",
            "only showing top 20 rows\n",
            "\n"
          ]
        }
      ],
      "source": [
        "predictions2.show()"
      ]
    },
    {
      "cell_type": "code",
      "execution_count": null,
      "metadata": {
        "id": "FqQUCmf35a80",
        "outputId": "02638f03-8e2f-4325-e406-361777f2c7f3"
      },
      "outputs": [
        {
          "name": "stdout",
          "output_type": "stream",
          "text": [
            "Root Mean Squared Error (RMSE) on test data =  4.671806485171292\n",
            "R Squared (R2) on test data = 0.7931522547835961\n"
          ]
        }
      ],
      "source": [
        "from pyspark.ml.evaluation import RegressionEvaluator\n",
        "evaluator = RegressionEvaluator(labelCol=\"medv\"\\\n",
        "                                , predictionCol=\"prediction\", metricName=\"rmse\")\n",
        "print (\"Root Mean Squared Error (RMSE) on test data = \",evaluator.evaluate(predictions))\n",
        "# Root Mean Squared Error (RMSE) on test data =  0.07470797713961008\n",
        "\n",
        "evaluator = RegressionEvaluator(labelCol=\"medv\",\\\n",
        "                                predictionCol=\"prediction\", metricName=\"r2\")\n",
        "print(\"R Squared (R2) on test data =\", evaluator.evaluate(predictions))"
      ]
    },
    {
      "cell_type": "code",
      "execution_count": null,
      "metadata": {
        "id": "LoXC1MVh5a80"
      },
      "outputs": [],
      "source": []
    }
  ],
  "metadata": {
    "kernelspec": {
      "display_name": "Python 3",
      "language": "python",
      "name": "python3"
    },
    "language_info": {
      "codemirror_mode": {
        "name": "ipython",
        "version": 3
      },
      "file_extension": ".py",
      "mimetype": "text/x-python",
      "name": "python",
      "nbconvert_exporter": "python",
      "pygments_lexer": "ipython3",
      "version": "3.7.4"
    },
    "colab": {
      "provenance": []
    }
  },
  "nbformat": 4,
  "nbformat_minor": 0
}