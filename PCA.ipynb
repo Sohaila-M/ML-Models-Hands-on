{
  "nbformat": 4,
  "nbformat_minor": 0,
  "metadata": {
    "colab": {
      "provenance": []
    },
    "kernelspec": {
      "name": "python3",
      "display_name": "Python 3"
    },
    "language_info": {
      "name": "python"
    }
  },
  "cells": [
    {
      "cell_type": "code",
      "execution_count": null,
      "metadata": {
        "id": "aPpRK9yRuntX"
      },
      "outputs": [],
      "source": [
        "# importing required libraries\n",
        "import numpy as np\n",
        "import matplotlib.pyplot as plt\n",
        "import pandas as pd"
      ]
    },
    {
      "cell_type": "code",
      "source": [
        "# importing or loading the dataset\n",
        "dataset = pd.read_csv('Heart_data.csv')"
      ],
      "metadata": {
        "id": "-P_YWWqnvR9i"
      },
      "execution_count": null,
      "outputs": []
    },
    {
      "cell_type": "code",
      "source": [
        "dataset.info()"
      ],
      "metadata": {
        "colab": {
          "base_uri": "https://localhost:8080/"
        },
        "id": "qA-hqcMivcIa",
        "outputId": "64ca95f4-881e-482d-b80c-a1abe1e1d882"
      },
      "execution_count": null,
      "outputs": [
        {
          "output_type": "stream",
          "name": "stdout",
          "text": [
            "<class 'pandas.core.frame.DataFrame'>\n",
            "RangeIndex: 38 entries, 0 to 37\n",
            "Data columns (total 76 columns):\n",
            " #   Column    Non-Null Count  Dtype  \n",
            "---  ------    --------------  -----  \n",
            " 0   id        38 non-null     int64  \n",
            " 1   ccf       38 non-null     int64  \n",
            " 2   age       38 non-null     int64  \n",
            " 3   sex       38 non-null     int64  \n",
            " 4   painloc   38 non-null     int64  \n",
            " 5   painexer  38 non-null     int64  \n",
            " 6   relrest   38 non-null     int64  \n",
            " 7   pncaden   38 non-null     int64  \n",
            " 8   cp        38 non-null     int64  \n",
            " 9   trestbps  38 non-null     int64  \n",
            " 10  htn       38 non-null     int64  \n",
            " 11  chol      38 non-null     int64  \n",
            " 12  smoke     38 non-null     int64  \n",
            " 13  cigs      38 non-null     int64  \n",
            " 14  years     38 non-null     int64  \n",
            " 15  fbs       38 non-null     int64  \n",
            " 16  dm        38 non-null     int64  \n",
            " 17  famhist   38 non-null     int64  \n",
            " 18  restecg   38 non-null     int64  \n",
            " 19  ekgmo     38 non-null     int64  \n",
            " 20  ekgday    38 non-null     int64  \n",
            " 21  ekgyr     38 non-null     int64  \n",
            " 22  dig       38 non-null     int64  \n",
            " 23  prop      38 non-null     int64  \n",
            " 24  nitr      38 non-null     int64  \n",
            " 25  pro       38 non-null     int64  \n",
            " 26  diuretic  38 non-null     int64  \n",
            " 27  proto     38 non-null     int64  \n",
            " 28  thaldur   38 non-null     float64\n",
            " 29  thaltime  38 non-null     float64\n",
            " 30  met       38 non-null     int64  \n",
            " 31  thalach   38 non-null     int64  \n",
            " 32  thalrest  38 non-null     int64  \n",
            " 33  tpeakbps  38 non-null     int64  \n",
            " 34  tpeakbpd  38 non-null     int64  \n",
            " 35  dummy     38 non-null     int64  \n",
            " 36  trestbpd  38 non-null     int64  \n",
            " 37  exang     38 non-null     int64  \n",
            " 38  xhypo     38 non-null     int64  \n",
            " 39  oldpeak   38 non-null     float64\n",
            " 40  slope     38 non-null     int64  \n",
            " 41  rldv5     38 non-null     int64  \n",
            " 42  rldv5e    38 non-null     int64  \n",
            " 43  ca        38 non-null     int64  \n",
            " 44  restckm   38 non-null     int64  \n",
            " 45  exerckm   38 non-null     int64  \n",
            " 46  restef    38 non-null     int64  \n",
            " 47  restwm    38 non-null     int64  \n",
            " 48  exeref    38 non-null     int64  \n",
            " 49  exerwm    38 non-null     int64  \n",
            " 50  thal      38 non-null     int64  \n",
            " 51  thalsev   38 non-null     int64  \n",
            " 52  thalpul   38 non-null     int64  \n",
            " 53  earlobe   38 non-null     int64  \n",
            " 54  cmo       38 non-null     int64  \n",
            " 55  cday      38 non-null     int64  \n",
            " 56  cyr       38 non-null     int64  \n",
            " 57  num       38 non-null     int64  \n",
            " 58  lmt       38 non-null     int64  \n",
            " 59  ladprox   38 non-null     int64  \n",
            " 60  laddist   38 non-null     int64  \n",
            " 61  diag      38 non-null     int64  \n",
            " 62  cxmain    38 non-null     int64  \n",
            " 63  ramus     38 non-null     int64  \n",
            " 64  om1       38 non-null     int64  \n",
            " 65  om2       38 non-null     int64  \n",
            " 66  rcaprox   38 non-null     int64  \n",
            " 67  rcadist   38 non-null     int64  \n",
            " 68  lvx1      37 non-null     float64\n",
            " 69  lvx2      37 non-null     float64\n",
            " 70  lvx3      37 non-null     float64\n",
            " 71  lvx4      37 non-null     float64\n",
            " 72  lvf       37 non-null     float64\n",
            " 73  cathef    37 non-null     float64\n",
            " 74  junk      37 non-null     object \n",
            " 75  name      35 non-null     object \n",
            "dtypes: float64(9), int64(65), object(2)\n",
            "memory usage: 22.7+ KB\n"
          ]
        }
      ]
    },
    {
      "cell_type": "code",
      "source": [
        "from sklearn.preprocessing import LabelEncoder\n",
        "le = LabelEncoder()\n",
        "dataset[\"name\"] = le.fit_transform(dataset[\"name\"])\n",
        "dataset[\"junk\"] = le.fit_transform(dataset[\"junk\"])"
      ],
      "metadata": {
        "id": "s9zz1xEm1I5u"
      },
      "execution_count": null,
      "outputs": []
    },
    {
      "cell_type": "code",
      "source": [
        "dataset.fillna(dataset.mean(numeric_only=True), inplace=True)"
      ],
      "metadata": {
        "id": "1vxivUm51R_r"
      },
      "execution_count": null,
      "outputs": []
    },
    {
      "cell_type": "code",
      "source": [
        "X = dataset.drop(columns=[\"htn\"])\n",
        "y = dataset[\"htn\"]"
      ],
      "metadata": {
        "id": "CZXgtA58zGo5"
      },
      "execution_count": null,
      "outputs": []
    },
    {
      "cell_type": "code",
      "source": [
        "dataset.isnull().sum()"
      ],
      "metadata": {
        "colab": {
          "base_uri": "https://localhost:8080/",
          "height": 458
        },
        "id": "SzEs0Gyn0Y7t",
        "outputId": "eee6cd98-06d4-4dfb-fa5f-fcfe36078c76"
      },
      "execution_count": null,
      "outputs": [
        {
          "output_type": "execute_result",
          "data": {
            "text/plain": [
              "id         0\n",
              "ccf        0\n",
              "age        0\n",
              "sex        0\n",
              "painloc    0\n",
              "          ..\n",
              "lvx4       0\n",
              "lvf        0\n",
              "cathef     0\n",
              "junk       0\n",
              "name       0\n",
              "Length: 76, dtype: int64"
            ],
            "text/html": [
              "<div>\n",
              "<style scoped>\n",
              "    .dataframe tbody tr th:only-of-type {\n",
              "        vertical-align: middle;\n",
              "    }\n",
              "\n",
              "    .dataframe tbody tr th {\n",
              "        vertical-align: top;\n",
              "    }\n",
              "\n",
              "    .dataframe thead th {\n",
              "        text-align: right;\n",
              "    }\n",
              "</style>\n",
              "<table border=\"1\" class=\"dataframe\">\n",
              "  <thead>\n",
              "    <tr style=\"text-align: right;\">\n",
              "      <th></th>\n",
              "      <th>0</th>\n",
              "    </tr>\n",
              "  </thead>\n",
              "  <tbody>\n",
              "    <tr>\n",
              "      <th>id</th>\n",
              "      <td>0</td>\n",
              "    </tr>\n",
              "    <tr>\n",
              "      <th>ccf</th>\n",
              "      <td>0</td>\n",
              "    </tr>\n",
              "    <tr>\n",
              "      <th>age</th>\n",
              "      <td>0</td>\n",
              "    </tr>\n",
              "    <tr>\n",
              "      <th>sex</th>\n",
              "      <td>0</td>\n",
              "    </tr>\n",
              "    <tr>\n",
              "      <th>painloc</th>\n",
              "      <td>0</td>\n",
              "    </tr>\n",
              "    <tr>\n",
              "      <th>...</th>\n",
              "      <td>...</td>\n",
              "    </tr>\n",
              "    <tr>\n",
              "      <th>lvx4</th>\n",
              "      <td>0</td>\n",
              "    </tr>\n",
              "    <tr>\n",
              "      <th>lvf</th>\n",
              "      <td>0</td>\n",
              "    </tr>\n",
              "    <tr>\n",
              "      <th>cathef</th>\n",
              "      <td>0</td>\n",
              "    </tr>\n",
              "    <tr>\n",
              "      <th>junk</th>\n",
              "      <td>0</td>\n",
              "    </tr>\n",
              "    <tr>\n",
              "      <th>name</th>\n",
              "      <td>0</td>\n",
              "    </tr>\n",
              "  </tbody>\n",
              "</table>\n",
              "<p>76 rows × 1 columns</p>\n",
              "</div><br><label><b>dtype:</b> int64</label>"
            ]
          },
          "metadata": {},
          "execution_count": 83
        }
      ]
    },
    {
      "cell_type": "code",
      "source": [
        "from sklearn.model_selection import train_test_split\n",
        "\n",
        "X_train, X_test, y_train, y_test = train_test_split(X, y, test_size=0.2, random_state=0)"
      ],
      "metadata": {
        "id": "OmGJfgXfzXVA"
      },
      "execution_count": null,
      "outputs": []
    },
    {
      "cell_type": "code",
      "source": [],
      "metadata": {
        "id": "PUt4kaWb0C1P"
      },
      "execution_count": null,
      "outputs": []
    },
    {
      "cell_type": "code",
      "source": [
        "# Applying PCA function on training\n",
        "# and testing set of X component\n",
        "from sklearn.decomposition import PCA\n",
        "\n",
        "pca = PCA(n_components=14)\n",
        "\n",
        "X_train = pca.fit_transform(X_train)\n",
        "X_test = pca.transform(X_test)\n",
        "\n",
        "explained_variance = pca.explained_variance_ratio_"
      ],
      "metadata": {
        "id": "GCIWU3iEzeM_"
      },
      "execution_count": null,
      "outputs": []
    },
    {
      "cell_type": "code",
      "source": [
        "import matplotlib.pyplot as plt\n",
        "\n",
        "# Assuming you have y_train labels\n",
        "plt.figure(figsize=(8,6))\n",
        "scatter = plt.scatter(X_train[:, 0], X_train[:, 1], c=y_train, cmap='viridis', edgecolor='k', s=40)\n",
        "plt.xlabel('Principal Component 1')\n",
        "plt.ylabel('Principal Component 2')\n",
        "plt.title('PCA: First 2 Principal Components')\n",
        "plt.colorbar(scatter, label='Class Label')\n",
        "plt.grid(True)\n",
        "plt.show()\n"
      ],
      "metadata": {
        "colab": {
          "base_uri": "https://localhost:8080/",
          "height": 564
        },
        "id": "mIJsNHVf2SdC",
        "outputId": "621c0c58-6b53-4ccb-ee85-906f0d5113d4"
      },
      "execution_count": null,
      "outputs": [
        {
          "output_type": "display_data",
          "data": {
            "text/plain": [
              "<Figure size 800x600 with 2 Axes>"
            ],
            "image/png": "[encoded data removed]"
          },
          "metadata": {}
        }
      ]
    },
    {
      "cell_type": "code",
      "source": [
        "import matplotlib.pyplot as plt\n",
        "import numpy as np\n",
        "\n",
        "# Bar chart for explained variance\n",
        "plt.figure(figsize=(6,4))\n",
        "components = np.arange(1, len(explained_variance) + 1)\n",
        "plt.bar(components, explained_variance, color='skyblue', edgecolor='k')\n",
        "plt.xlabel('Principal Component')\n",
        "plt.ylabel('Explained Variance Ratio')\n",
        "plt.title('Explained Variance by Principal Components')\n",
        "plt.xticks(components)\n",
        "plt.ylim(0, 1)\n",
        "plt.grid(axis='y')\n",
        "plt.show()\n"
      ],
      "metadata": {
        "colab": {
          "base_uri": "https://localhost:8080/",
          "height": 410
        },
        "id": "8a10pO7l2kjB",
        "outputId": "a3cb5682-a7c1-4313-d8ee-a4138b3a6a57"
      },
      "execution_count": null,
      "outputs": [
        {
          "output_type": "display_data",
          "data": {
            "text/plain": [
              "<Figure size 600x400 with 1 Axes>"
            ],
            "image/png": "[encoded data removed]"
          },
          "metadata": {}
        }
      ]
    },
    {
      "cell_type": "code",
      "source": [
        "import pandas as pd\n",
        "\n",
        "# Assuming you have a list of feature names\n",
        "# Replace this with your actual feature names if needed\n",
        "feature_names = X.columns  # If X is a DataFrame\n",
        "\n",
        "# Create column names dynamically for PC1 to PC14\n",
        "pc_labels = [f'PC{i+1}' for i in range(14)]\n",
        "\n",
        "# Create a DataFrame with the PCA components (loadings)\n",
        "loadings_df = pd.DataFrame(pca.components_.T,\n",
        "                           columns=pc_labels,\n",
        "                           index=feature_names)\n",
        "\n",
        "print(\"PCA Loadings Table:\")\n",
        "print(loadings_df)\n"
      ],
      "metadata": {
        "colab": {
          "base_uri": "https://localhost:8080/"
        },
        "id": "geSK0pT54PMw",
        "outputId": "58154dad-b4ed-43b2-e90b-1509f325da01"
      },
      "execution_count": null,
      "outputs": [
        {
          "output_type": "stream",
          "name": "stdout",
          "text": [
            "PCA Loadings Table:\n",
            "                  PC1           PC2           PC3           PC4           PC5  \\\n",
            "id       1.493199e-02 -2.463227e-02 -1.459455e-01  7.064351e-02  1.416772e-01   \n",
            "ccf     -4.783752e-17 -2.072786e-17  7.346082e-17  1.658662e-16 -2.522654e-16   \n",
            "age     -2.785154e-03 -7.798411e-02 -4.151769e-02 -1.234447e-01  3.941587e-03   \n",
            "sex     -1.602171e-04  3.428299e-03 -2.523712e-03 -4.878035e-03  1.047758e-02   \n",
            "painloc -4.892660e-06 -2.032118e-04 -1.119151e-03 -1.667209e-03  2.174476e-03   \n",
            "...               ...           ...           ...           ...           ...   \n",
            "lvx4     4.583060e-06 -9.944556e-06 -3.194298e-04  1.917422e-04 -2.356298e-04   \n",
            "lvf     -6.326443e-04 -2.035504e-05 -1.915181e-03  3.646032e-03  9.082411e-03   \n",
            "cathef   5.532294e-02 -1.154780e-01 -3.957520e-02  4.619898e-01  6.171516e-01   \n",
            "junk     2.286186e-04 -1.382805e-03 -4.307081e-03 -4.170034e-04 -2.560532e-03   \n",
            "name     2.003564e-04 -1.321480e-03 -2.337264e-03 -1.599414e-03 -1.107482e-03   \n",
            "\n",
            "                  PC6           PC7           PC8           PC9          PC10  \\\n",
            "id       1.129928e-01  8.181102e-01  8.295482e-02 -2.891422e-01 -1.566783e-01   \n",
            "ccf      4.949467e-16  2.263620e-16  5.995051e-16 -2.682876e-16  4.352284e-17   \n",
            "age      1.066234e-01  9.573984e-02  6.722381e-02  7.719755e-02  2.125482e-01   \n",
            "sex     -8.527180e-03  3.253030e-03  1.671437e-02  4.229690e-03 -3.007780e-03   \n",
            "painloc  2.462808e-04  1.291132e-03  4.082960e-04 -1.017661e-03 -9.251831e-04   \n",
            "...               ...           ...           ...           ...           ...   \n",
            "lvx4    -1.368253e-04  4.629942e-04 -1.730923e-04 -1.840664e-04 -1.738992e-04   \n",
            "lvf      5.972031e-04  7.273769e-03  1.897241e-02  5.181432e-03  4.421760e-03   \n",
            "cathef   4.220558e-01 -1.255308e-01 -4.986887e-02  3.325387e-01  9.143273e-03   \n",
            "junk    -2.715822e-03  1.010584e-02 -1.318248e-03 -3.791126e-03  7.460138e-04   \n",
            "name    -1.872066e-03  7.250707e-03 -2.508460e-04 -2.656050e-03  1.818392e-03   \n",
            "\n",
            "                 PC11          PC12          PC13          PC14  \n",
            "id       7.060424e-02 -1.003023e-01 -2.234961e-02  1.540261e-01  \n",
            "ccf      5.602005e-16 -1.200296e-15 -2.489797e-16 -6.794411e-16  \n",
            "age     -2.425815e-02  4.794349e-01  7.635712e-01  1.801451e-01  \n",
            "sex      1.066536e-02  5.377635e-03  1.235089e-02 -9.452910e-03  \n",
            "painloc  1.077062e-02  5.131679e-04 -5.834879e-03 -2.815176e-03  \n",
            "...               ...           ...           ...           ...  \n",
            "lvx4     3.958264e-04 -8.282844e-05 -1.231172e-03  2.668391e-04  \n",
            "lvf     -1.106757e-02  2.327613e-03 -4.162636e-02  3.578250e-02  \n",
            "cathef   9.830913e-02 -4.999326e-02  6.883771e-03 -3.244057e-02  \n",
            "junk     1.273045e-02 -4.443477e-03 -4.463456e-03  1.991783e-03  \n",
            "name     1.028952e-02 -3.932701e-03  3.128772e-03  3.462753e-04  \n",
            "\n",
            "[75 rows x 14 columns]\n"
          ]
        }
      ]
    },
    {
      "cell_type": "code",
      "source": [
        "# Absolute values of loadings (to measure strength regardless of sign)\n",
        "abs_loadings = loadings_df.abs()\n",
        "\n",
        "# Get both the most important feature and its value for each component\n",
        "most_important_features = abs_loadings.idxmax()\n",
        "most_important_values = abs_loadings.max()\n",
        "\n",
        "# Combine into a DataFrame for easy viewing\n",
        "most_important_df = pd.DataFrame({\n",
        "    'Most Important Feature': most_important_features,\n",
        "    'Contribution Strength': most_important_values\n",
        "})\n",
        "S\n",
        "print(\"Most important feature for each principal component:\")\n",
        "print(most_important_df)\n"
      ],
      "metadata": {
        "colab": {
          "base_uri": "https://localhost:8080/"
        },
        "id": "kTZC0qGq3hIJ",
        "outputId": "0fb3dffd-f535-4c60-a619-a727270d26d1"
      },
      "execution_count": null,
      "outputs": [
        {
          "output_type": "stream",
          "name": "stdout",
          "text": [
            "Most important feature for each principal component:\n",
            "     Most Important Feature  Contribution Strength\n",
            "PC1                    chol               0.982225\n",
            "PC2                   proto               0.895231\n",
            "PC3                tpeakbps               0.687245\n",
            "PC4                 thalach               0.701492\n",
            "PC5                  cathef               0.617152\n",
            "PC6                tpeakbps               0.553469\n",
            "PC7                      id               0.818110\n",
            "PC8                thaltime               0.684148\n",
            "PC9                thalrest               0.551507\n",
            "PC10                 ekgday               0.541636\n",
            "PC11                 ekgday               0.630434\n",
            "PC12                    age               0.479435\n",
            "PC13                    age               0.763571\n",
            "PC14               tpeakbpd               0.554170\n"
          ]
        }
      ]
    }
  ]
}